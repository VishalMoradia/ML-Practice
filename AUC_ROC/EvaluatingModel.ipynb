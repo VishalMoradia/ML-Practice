{
  "nbformat": 4,
  "nbformat_minor": 0,
  "metadata": {
    "colab": {
      "name": "AUC/ROC.ipynb",
      "provenance": [],
      "collapsed_sections": [],
      "authorship_tag": "ABX9TyMVJkCtnljTrGMhTxpCcUiN",
      "include_colab_link": true
    },
    "kernelspec": {
      "name": "python3",
      "display_name": "Python 3"
    },
    "language_info": {
      "name": "python"
    }
  },
  "cells": [
    {
      "cell_type": "markdown",
      "metadata": {
        "id": "view-in-github",
        "colab_type": "text"
      },
      "source": [
        "<a href=\"https://colab.research.google.com/github/VishalMoradia/ML-Practice/blob/main/AUC_ROC/EvaluatingModel.ipynb\" target=\"_parent\"><img src=\"https://colab.research.google.com/assets/colab-badge.svg\" alt=\"Open In Colab\"/></a>"
      ]
    },
    {
      "cell_type": "code",
      "execution_count": 1,
      "metadata": {
        "colab": {
          "base_uri": "https://localhost:8080/"
        },
        "id": "dy0xNo5C8EG6",
        "outputId": "506e884d-5f6a-43b1-c97c-3daef939de33"
      },
      "outputs": [
        {
          "output_type": "stream",
          "name": "stdout",
          "text": [
            "heart disease classifier 'cross-validated' accuracy: 81.16%\n"
          ]
        }
      ],
      "source": [
        "import pandas as pd\n",
        "import numpy as np\n",
        "\n",
        "\n",
        "df = pd.read_csv('/heart-disease.csv')\n",
        "\n",
        "\n",
        "from sklearn.model_selection import cross_val_score\n",
        "from sklearn.ensemble import RandomForestClassifier \n",
        "from sklearn.model_selection import train_test_split\n",
        "\n",
        "X = df.drop('target', axis = 1)\n",
        "y = df['target']\n",
        "\n",
        "model = RandomForestClassifier()\n",
        "mean_score = np.mean(cross_val_score(model, X, y, cv = 5))\n",
        "print(f\"heart disease classifier 'cross-validated' accuracy: {(mean_score) *100:.2f}%\")"
      ]
    },
    {
      "cell_type": "markdown",
      "source": [
        "### Area under Curve (AUC)\n",
        "###Receiver Operating Characteristics (ROC)"
      ],
      "metadata": {
        "id": "IwtcitY99-tV"
      }
    },
    {
      "cell_type": "markdown",
      "source": [
        "#### ROC - Compares `True Positive rate` (tpr) vs `False Positive rate` (fpr)\n",
        "* True Positive - Model predicts 1 and truth is 1\n",
        "* False positive - Model predicts 1 and truth is 0\n",
        "* True negative - Model predicts 0 and truth is 0\n",
        "* False negative - Model predicts 1 and truth is 0"
      ],
      "metadata": {
        "id": "W78Y7001CySP"
      }
    },
    {
      "cell_type": "code",
      "source": [
        "X_train, X_test, y_train, y_test = train_test_split(X, y, test_size = 0.2)"
      ],
      "metadata": {
        "id": "-HL_wdz9D4yP"
      },
      "execution_count": 2,
      "outputs": []
    },
    {
      "cell_type": "code",
      "source": [
        "from sklearn.metrics import roc_curve\n",
        "\n",
        "\n",
        "model.fit(X_train, y_train)\n",
        "\n",
        "# Make predictions with probabilities \n",
        "\n",
        "y_prob = model.predict_proba(X_test)\n",
        "\n",
        "y_prob[:10]"
      ],
      "metadata": {
        "colab": {
          "base_uri": "https://localhost:8080/"
        },
        "id": "hd13dcYaDmsf",
        "outputId": "1c9bd53d-8077-4d86-927a-6b147ecfcfe8"
      },
      "execution_count": 3,
      "outputs": [
        {
          "output_type": "execute_result",
          "data": {
            "text/plain": [
              "array([[0.89, 0.11],\n",
              "       [0.94, 0.06],\n",
              "       [0.24, 0.76],\n",
              "       [0.78, 0.22],\n",
              "       [0.35, 0.65],\n",
              "       [0.93, 0.07],\n",
              "       [0.49, 0.51],\n",
              "       [0.02, 0.98],\n",
              "       [0.11, 0.89],\n",
              "       [0.59, 0.41]])"
            ]
          },
          "metadata": {},
          "execution_count": 3
        }
      ]
    },
    {
      "cell_type": "code",
      "source": [
        "# Differentiating between positives and negatives\n",
        "\n",
        "y_prob_positive = y_prob[:,1]\n",
        "y_prob_positive"
      ],
      "metadata": {
        "colab": {
          "base_uri": "https://localhost:8080/"
        },
        "id": "dxpD7mNlEPFZ",
        "outputId": "090485e1-6e7e-4176-82b9-f4ab1f29e27a"
      },
      "execution_count": 4,
      "outputs": [
        {
          "output_type": "execute_result",
          "data": {
            "text/plain": [
              "array([0.11, 0.06, 0.76, 0.22, 0.65, 0.07, 0.51, 0.98, 0.89, 0.41, 0.12,\n",
              "       0.94, 0.97, 0.91, 0.99, 0.52, 0.68, 0.07, 0.14, 0.8 , 0.95, 0.69,\n",
              "       0.48, 0.28, 0.02, 0.56, 0.86, 0.52, 0.68, 0.89, 0.05, 0.42, 0.92,\n",
              "       0.39, 0.59, 0.57, 0.87, 0.3 , 0.65, 0.82, 0.4 , 0.64, 0.8 , 0.65,\n",
              "       0.07, 0.95, 0.03, 0.9 , 0.92, 0.13, 0.74, 0.36, 0.31, 0.99, 0.87,\n",
              "       0.43, 0.44, 0.38, 0.18, 0.12, 0.34])"
            ]
          },
          "metadata": {},
          "execution_count": 4
        }
      ]
    },
    {
      "cell_type": "code",
      "source": [
        "fpr, tpr, thresholds = roc_curve(y_test, y_prob_positive)"
      ],
      "metadata": {
        "id": "FBCycnhjE0mz"
      },
      "execution_count": 5,
      "outputs": []
    },
    {
      "cell_type": "code",
      "source": [
        "fpr"
      ],
      "metadata": {
        "colab": {
          "base_uri": "https://localhost:8080/"
        },
        "id": "lr7dSNwJs5YS",
        "outputId": "2bde7906-645b-4aae-d5e1-8f149eee3a34"
      },
      "execution_count": 6,
      "outputs": [
        {
          "output_type": "execute_result",
          "data": {
            "text/plain": [
              "array([0.  , 0.  , 0.  , 0.  , 0.  , 0.  , 0.  , 0.  , 0.  , 0.04, 0.04,\n",
              "       0.08, 0.16, 0.16, 0.24, 0.24, 0.28, 0.28, 0.36, 0.36, 0.4 , 0.4 ,\n",
              "       0.44, 0.44, 0.6 , 0.68, 0.72, 0.84, 1.  ])"
            ]
          },
          "metadata": {},
          "execution_count": 6
        }
      ]
    },
    {
      "cell_type": "code",
      "source": [
        "tpr"
      ],
      "metadata": {
        "colab": {
          "base_uri": "https://localhost:8080/"
        },
        "id": "DkBEH6Tms6yR",
        "outputId": "e49d7143-544c-44ed-a23f-e12e6137a544"
      },
      "execution_count": 7,
      "outputs": [
        {
          "output_type": "execute_result",
          "data": {
            "text/plain": [
              "array([0.        , 0.05555556, 0.11111111, 0.16666667, 0.19444444,\n",
              "       0.25      , 0.30555556, 0.41666667, 0.47222222, 0.5       ,\n",
              "       0.58333333, 0.61111111, 0.63888889, 0.66666667, 0.66666667,\n",
              "       0.69444444, 0.72222222, 0.75      , 0.75      , 0.80555556,\n",
              "       0.80555556, 0.94444444, 0.94444444, 1.        , 1.        ,\n",
              "       1.        , 1.        , 1.        , 1.        ])"
            ]
          },
          "metadata": {},
          "execution_count": 7
        }
      ]
    },
    {
      "cell_type": "code",
      "source": [
        "import matplotlib.pyplot as plt\n",
        "\n",
        "\n",
        "def plot_roc(fpr, tpr):\n",
        "  \"\"\"\n",
        "  Plots a ROC curve given the false positive rate (fpr) and true positive rate \n",
        "  (tpr) of a model\n",
        "  \"\"\"\n",
        "  # Plot line with no predictive power (baseline)\n",
        "  plt.plot(fpr, tpr, color = 'Orange', label = 'ROC')\n",
        "  plt.plot([0,1], [0,1], color = 'darkblue', linestyle = '--', label = 'Guessing')\n",
        "  plt.xlabel(\"fale positive rate\")\n",
        "  plt.ylabel('true positive rate')\n",
        "  plt.title('Receiver Operating Characteristic (ROC) curve')\n",
        "  plt.legend()\n",
        "  plt.show()\n",
        "\n",
        "plot_roc(fpr, tpr)\n"
      ],
      "metadata": {
        "id": "2rLW9WEWGUr_",
        "colab": {
          "base_uri": "https://localhost:8080/",
          "height": 295
        },
        "outputId": "bfdc9333-2341-4ed5-c4a0-1ee4da7f368d"
      },
      "execution_count": 8,
      "outputs": [
        {
          "output_type": "display_data",
          "data": {
            "text/plain": [
              "<Figure size 432x288 with 1 Axes>"
            ],
            "image/png": "[encoded data removed]"
          },
          "metadata": {
            "needs_background": "light"
          }
        }
      ]
    },
    {
      "cell_type": "code",
      "source": [
        "from sklearn.metrics import roc_auc_score\n",
        "\n",
        "roc_auc_score(y_test, y_prob_positive)"
      ],
      "metadata": {
        "colab": {
          "base_uri": "https://localhost:8080/"
        },
        "id": "mhChB3JVsvVR",
        "outputId": "e50d3f6b-eca6-47f5-a519-7eb661cd9380"
      },
      "execution_count": 9,
      "outputs": [
        {
          "output_type": "execute_result",
          "data": {
            "text/plain": [
              "0.865"
            ]
          },
          "metadata": {},
          "execution_count": 9
        }
      ]
    },
    {
      "cell_type": "markdown",
      "source": [
        "\n",
        "#### What to remember in nutshell for ROC and AUC:\n",
        "* ROC and AUC are both evaluation metrics for binary classification models. \n",
        "  (Whether one event happens or the other)\n",
        "* ROC curve compares the false positive rate vs true positive rate at diff.\n",
        "  classification thresholds.\n",
        "* AUC metrics tells us how well model is at choosing between classes. Perfect\n",
        "  model will have an AUC score of 1. "
      ],
      "metadata": {
        "id": "-pTIS1zetZzV"
      }
    },
    {
      "cell_type": "markdown",
      "source": [
        "### Confusion Matrix"
      ],
      "metadata": {
        "id": "wy1ZHf-z4S9w"
      }
    },
    {
      "cell_type": "code",
      "source": [
        "from sklearn.metrics import confusion_matrix\n",
        "\n",
        "y_preds = model.predict(X_test)\n",
        "y_preds"
      ],
      "metadata": {
        "colab": {
          "base_uri": "https://localhost:8080/"
        },
        "id": "gnHj7g8g4Ybc",
        "outputId": "a0684899-66c0-4307-8c7a-fe7f80cdfddb"
      },
      "execution_count": 10,
      "outputs": [
        {
          "output_type": "execute_result",
          "data": {
            "text/plain": [
              "array([0, 0, 1, 0, 1, 0, 1, 1, 1, 0, 0, 1, 1, 1, 1, 1, 1, 0, 0, 1, 1, 1,\n",
              "       0, 0, 0, 1, 1, 1, 1, 1, 0, 0, 1, 0, 1, 1, 1, 0, 1, 1, 0, 1, 1, 1,\n",
              "       0, 1, 0, 1, 1, 0, 1, 0, 0, 1, 1, 0, 0, 0, 0, 0, 0])"
            ]
          },
          "metadata": {},
          "execution_count": 10
        }
      ]
    },
    {
      "cell_type": "code",
      "source": [
        "confusion_matrix(y_test, y_preds)"
      ],
      "metadata": {
        "colab": {
          "base_uri": "https://localhost:8080/"
        },
        "id": "YZUbX-S_4mE2",
        "outputId": "36916b5e-aa10-4df8-9957-afa41ea6bcf4"
      },
      "execution_count": 11,
      "outputs": [
        {
          "output_type": "execute_result",
          "data": {
            "text/plain": [
              "array([[18,  7],\n",
              "       [ 9, 27]])"
            ]
          },
          "metadata": {},
          "execution_count": 11
        }
      ]
    },
    {
      "cell_type": "code",
      "source": [
        "# Visualize confusion matrix with pd.crosstab()\n",
        "\n",
        "pd.crosstab(y_test, y_preds, \n",
        "            rownames = ['Actual Labels'],\n",
        "            colnames = ['Predicted Labels'])"
      ],
      "metadata": {
        "colab": {
          "base_uri": "https://localhost:8080/",
          "height": 143
        },
        "id": "nAO1--CO4qGr",
        "outputId": "277a1fa4-29ba-41d2-b735-a4e9e909e406"
      },
      "execution_count": 12,
      "outputs": [
        {
          "output_type": "execute_result",
          "data": {
            "text/plain": [
              "Predicted Labels   0   1\n",
              "Actual Labels           \n",
              "0                 18   7\n",
              "1                  9  27"
            ],
            "text/html": [
              "\n",
              "  <div id=\"df-c4d8f743-c34a-4645-a0de-fa483591f40f\">\n",
              "    <div class=\"colab-df-container\">\n",
              "      <div>\n",
              "<style scoped>\n",
              "    .dataframe tbody tr th:only-of-type {\n",
              "        vertical-align: middle;\n",
              "    }\n",
              "\n",
              "    .dataframe tbody tr th {\n",
              "        vertical-align: top;\n",
              "    }\n",
              "\n",
              "    .dataframe thead th {\n",
              "        text-align: right;\n",
              "    }\n",
              "</style>\n",
              "<table border=\"1\" class=\"dataframe\">\n",
              "  <thead>\n",
              "    <tr style=\"text-align: right;\">\n",
              "      <th>Predicted Labels</th>\n",
              "      <th>0</th>\n",
              "      <th>1</th>\n",
              "    </tr>\n",
              "    <tr>\n",
              "      <th>Actual Labels</th>\n",
              "      <th></th>\n",
              "      <th></th>\n",
              "    </tr>\n",
              "  </thead>\n",
              "  <tbody>\n",
              "    <tr>\n",
              "      <th>0</th>\n",
              "      <td>18</td>\n",
              "      <td>7</td>\n",
              "    </tr>\n",
              "    <tr>\n",
              "      <th>1</th>\n",
              "      <td>9</td>\n",
              "      <td>27</td>\n",
              "    </tr>\n",
              "  </tbody>\n",
              "</table>\n",
              "</div>\n",
              "      <button class=\"colab-df-convert\" onclick=\"convertToInteractive('df-c4d8f743-c34a-4645-a0de-fa483591f40f')\"\n",
              "              title=\"Convert this dataframe to an interactive table.\"\n",
              "              style=\"display:none;\">\n",
              "        \n",
              "  <svg xmlns=\"http://www.w3.org/2000/svg\" height=\"24px\"viewBox=\"0 0 24 24\"\n",
              "       width=\"24px\">\n",
              "    <path d=\"M0 0h24v24H0V0z\" fill=\"none\"/>\n",
              "    <path d=\"M18.56 5.44l.94 2.06.94-2.06 2.06-.94-2.06-.94-.94-2.06-.94 2.06-2.06.94zm-11 1L8.5 8.5l.94-2.06 2.06-.94-2.06-.94L8.5 2.5l-.94 2.06-2.06.94zm10 10l.94 2.06.94-2.06 2.06-.94-2.06-.94-.94-2.06-.94 2.06-2.06.94z\"/><path d=\"M17.41 7.96l-1.37-1.37c-.4-.4-.92-.59-1.43-.59-.52 0-1.04.2-1.43.59L10.3 9.45l-7.72 7.72c-.78.78-.78 2.05 0 2.83L4 21.41c.39.39.9.59 1.41.59.51 0 1.02-.2 1.41-.59l7.78-7.78 2.81-2.81c.8-.78.8-2.07 0-2.86zM5.41 20L4 18.59l7.72-7.72 1.47 1.35L5.41 20z\"/>\n",
              "  </svg>\n",
              "      </button>\n",
              "      \n",
              "  <style>\n",
              "    .colab-df-container {\n",
              "      display:flex;\n",
              "      flex-wrap:wrap;\n",
              "      gap: 12px;\n",
              "    }\n",
              "\n",
              "    .colab-df-convert {\n",
              "      background-color: #E8F0FE;\n",
              "      border: none;\n",
              "      border-radius: 50%;\n",
              "      cursor: pointer;\n",
              "      display: none;\n",
              "      fill: #1967D2;\n",
              "      height: 32px;\n",
              "      padding: 0 0 0 0;\n",
              "      width: 32px;\n",
              "    }\n",
              "\n",
              "    .colab-df-convert:hover {\n",
              "      background-color: #E2EBFA;\n",
              "      box-shadow: 0px 1px 2px rgba(60, 64, 67, 0.3), 0px 1px 3px 1px rgba(60, 64, 67, 0.15);\n",
              "      fill: #174EA6;\n",
              "    }\n",
              "\n",
              "    [theme=dark] .colab-df-convert {\n",
              "      background-color: #3B4455;\n",
              "      fill: #D2E3FC;\n",
              "    }\n",
              "\n",
              "    [theme=dark] .colab-df-convert:hover {\n",
              "      background-color: #434B5C;\n",
              "      box-shadow: 0px 1px 3px 1px rgba(0, 0, 0, 0.15);\n",
              "      filter: drop-shadow(0px 1px 2px rgba(0, 0, 0, 0.3));\n",
              "      fill: #FFFFFF;\n",
              "    }\n",
              "  </style>\n",
              "\n",
              "      <script>\n",
              "        const buttonEl =\n",
              "          document.querySelector('#df-c4d8f743-c34a-4645-a0de-fa483591f40f button.colab-df-convert');\n",
              "        buttonEl.style.display =\n",
              "          google.colab.kernel.accessAllowed ? 'block' : 'none';\n",
              "\n",
              "        async function convertToInteractive(key) {\n",
              "          const element = document.querySelector('#df-c4d8f743-c34a-4645-a0de-fa483591f40f');\n",
              "          const dataTable =\n",
              "            await google.colab.kernel.invokeFunction('convertToInteractive',\n",
              "                                                     [key], {});\n",
              "          if (!dataTable) return;\n",
              "\n",
              "          const docLinkHtml = 'Like what you see? Visit the ' +\n",
              "            '<a target=\"_blank\" href=https://colab.research.google.com/notebooks/data_table.ipynb>data table notebook</a>'\n",
              "            + ' to learn more about interactive tables.';\n",
              "          element.innerHTML = '';\n",
              "          dataTable['output_type'] = 'display_data';\n",
              "          await google.colab.output.renderOutput(dataTable, element);\n",
              "          const docLink = document.createElement('div');\n",
              "          docLink.innerHTML = docLinkHtml;\n",
              "          element.appendChild(docLink);\n",
              "        }\n",
              "      </script>\n",
              "    </div>\n",
              "  </div>\n",
              "  "
            ]
          },
          "metadata": {},
          "execution_count": 12
        }
      ]
    },
    {
      "cell_type": "markdown",
      "source": [
        "##### What we can see from the confusion matrix given above:\n",
        "* There are 13 values which fall under false positive\n",
        "* There are 17 true negatives and 27 true positives\n",
        "* There are 4 values which are false negative"
      ],
      "metadata": {
        "id": "ZJQHpY9C8bu2"
      }
    },
    {
      "cell_type": "code",
      "source": [
        "# Making confusion matrix more visual with Seaborn's Library heatmap()\n",
        "\n",
        "\n",
        "import seaborn as sns\n",
        "\n",
        "# set the font scale \n",
        "\n",
        "sns.set(font_scale = 1.5)\n",
        "\n",
        "# create the confusion matrix\n",
        "\n",
        "conf_mat = confusion_matrix(y_test, y_preds)\n",
        "\n",
        "sns.heatmap(conf_mat);"
      ],
      "metadata": {
        "colab": {
          "base_uri": "https://localhost:8080/",
          "height": 276
        },
        "id": "Wo2JSyg-9NDu",
        "outputId": "acbb70bd-86a1-4cb9-a365-b4659d159e65"
      },
      "execution_count": 13,
      "outputs": [
        {
          "output_type": "display_data",
          "data": {
            "text/plain": [
              "<Figure size 432x288 with 2 Axes>"
            ],
            "image/png": "[encoded data removed]"
          },
          "metadata": {}
        }
      ]
    },
    {
      "cell_type": "code",
      "source": [
        "model"
      ],
      "metadata": {
        "colab": {
          "base_uri": "https://localhost:8080/"
        },
        "id": "gDV3kIuzHow9",
        "outputId": "a76695ab-ff6f-40fe-ebdd-934115e70e79"
      },
      "execution_count": 15,
      "outputs": [
        {
          "output_type": "execute_result",
          "data": {
            "text/plain": [
              "RandomForestClassifier()"
            ]
          },
          "metadata": {},
          "execution_count": 15
        }
      ]
    },
    {
      "cell_type": "code",
      "source": [
        "from sklearn.metrics import ConfusionMatrixDisplay\n",
        "\n",
        "ConfusionMatrixDisplay.from_estimator(estimator = model, X = X, y = y)"
      ],
      "metadata": {
        "id": "6m4WAyVeADQt",
        "colab": {
          "base_uri": "https://localhost:8080/",
          "height": 315
        },
        "outputId": "a6628c42-53b9-4cbe-9558-5864ae708d1b"
      },
      "execution_count": 17,
      "outputs": [
        {
          "output_type": "execute_result",
          "data": {
            "text/plain": [
              "<sklearn.metrics._plot.confusion_matrix.ConfusionMatrixDisplay at 0x7f3749894190>"
            ]
          },
          "metadata": {},
          "execution_count": 17
        },
        {
          "output_type": "display_data",
          "data": {
            "text/plain": [
              "<Figure size 432x288 with 2 Axes>"
            ],
            "image/png": "[encoded data removed]"
          },
          "metadata": {}
        }
      ]
    },
    {
      "cell_type": "code",
      "source": [
        "# y_preds are the values of the target variable that model has predicted.\n",
        "\n",
        "y_preds"
      ],
      "metadata": {
        "colab": {
          "base_uri": "https://localhost:8080/"
        },
        "id": "VZsHHo2gHu5r",
        "outputId": "e7e0bbf4-5961-451b-bd17-1d4c6e654f42"
      },
      "execution_count": 18,
      "outputs": [
        {
          "output_type": "execute_result",
          "data": {
            "text/plain": [
              "array([0, 0, 1, 0, 1, 0, 1, 1, 1, 0, 0, 1, 1, 1, 1, 1, 1, 0, 0, 1, 1, 1,\n",
              "       0, 0, 0, 1, 1, 1, 1, 1, 0, 0, 1, 0, 1, 1, 1, 0, 1, 1, 0, 1, 1, 1,\n",
              "       0, 1, 0, 1, 1, 0, 1, 0, 0, 1, 1, 0, 0, 0, 0, 0, 0])"
            ]
          },
          "metadata": {},
          "execution_count": 18
        }
      ]
    },
    {
      "cell_type": "code",
      "source": [
        "# y_test are the values of the variable that was taken from the data during train_test_split()\n",
        "\n",
        "y_test\n",
        "\n",
        "# we compare the y_preds against the y_test to evaluate the accuracy of the model."
      ],
      "metadata": {
        "colab": {
          "base_uri": "https://localhost:8080/"
        },
        "id": "VOfCOIprIlbA",
        "outputId": "b89e4d42-152f-4d9e-e27f-38d20e318de9"
      },
      "execution_count": 19,
      "outputs": [
        {
          "output_type": "execute_result",
          "data": {
            "text/plain": [
              "207    0\n",
              "221    0\n",
              "5      1\n",
              "266    0\n",
              "286    0\n",
              "      ..\n",
              "270    0\n",
              "59     1\n",
              "220    0\n",
              "176    0\n",
              "152    1\n",
              "Name: target, Length: 61, dtype: int64"
            ]
          },
          "metadata": {},
          "execution_count": 19
        }
      ]
    },
    {
      "cell_type": "code",
      "source": [
        "from sklearn.metrics import classification_report\n",
        "\n",
        "print(classification_report(y_test, y_preds)) # here are comparing the true values (y_test) with the predicted values (y_preds) "
      ],
      "metadata": {
        "colab": {
          "base_uri": "https://localhost:8080/"
        },
        "id": "2qhodRE2IqvH",
        "outputId": "53def793-1664-499a-826c-610bc45df829"
      },
      "execution_count": 20,
      "outputs": [
        {
          "output_type": "stream",
          "name": "stdout",
          "text": [
            "              precision    recall  f1-score   support\n",
            "\n",
            "           0       0.67      0.72      0.69        25\n",
            "           1       0.79      0.75      0.77        36\n",
            "\n",
            "    accuracy                           0.74        61\n",
            "   macro avg       0.73      0.73      0.73        61\n",
            "weighted avg       0.74      0.74      0.74        61\n",
            "\n"
          ]
        }
      ]
    },
    {
      "cell_type": "markdown",
      "source": [
        "#### Explanation of the result above:\n",
        "\n",
        "* `precision` - indicates the proportion of the positive identifications which were actually correct. A model that produces no false positives has the precision of 1.0\n",
        "\n",
        "* `recall` - Indicates the proportion of actual positives which were correctly classified. Model that produces no false negatives has the recall of 1.0\n",
        "\n",
        "* `F1 score` - A combination of recall and precision. A perfect model achieves the score of 1.0\n",
        "\n",
        "* `Support` - The number of samples each metric was calculated on.\n",
        "\n",
        "* `Accuracy` - Model accuracy. Perfect = 1.0\n",
        "\n",
        "* `Macro avg.` - Average of recall, f1 and avergae precision.\n",
        "\n",
        "* `weighted` - Avegrage calculated with rtespect to how many samples there are in each class.\n",
        "\n"
      ],
      "metadata": {
        "id": "Nnp1gHCjJXCE"
      }
    },
    {
      "cell_type": "code",
      "source": [
        ""
      ],
      "metadata": {
        "id": "H05RlliJM38L"
      },
      "execution_count": null,
      "outputs": []
    }
  ]
}