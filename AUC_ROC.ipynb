{
  "nbformat": 4,
  "nbformat_minor": 0,
  "metadata": {
    "colab": {
      "name": "AUC/ROC.ipynb",
      "provenance": [],
      "authorship_tag": "ABX9TyPXAoUVYwQg2PS8qupqQTv0",
      "include_colab_link": true
    },
    "kernelspec": {
      "name": "python3",
      "display_name": "Python 3"
    },
    "language_info": {
      "name": "python"
    }
  },
  "cells": [
    {
      "cell_type": "markdown",
      "metadata": {
        "id": "view-in-github",
        "colab_type": "text"
      },
      "source": [
        "<a href=\"https://colab.research.google.com/github/VishalMoradia/ML-Practice/blob/main/AUC_ROC.ipynb\" target=\"_parent\"><img src=\"https://colab.research.google.com/assets/colab-badge.svg\" alt=\"Open In Colab\"/></a>"
      ]
    },
    {
      "cell_type": "code",
      "execution_count": null,
      "metadata": {
        "colab": {
          "base_uri": "https://localhost:8080/"
        },
        "id": "dy0xNo5C8EG6",
        "outputId": "22d4be7a-d9b8-4087-e3f8-8efdbf1ea8c1"
      },
      "outputs": [
        {
          "output_type": "stream",
          "name": "stdout",
          "text": [
            "heart disease classifier 'cross-validated' accuracy: 83.47%\n"
          ]
        }
      ],
      "source": [
        "import pandas as pd\n",
        "import numpy as np\n",
        "\n",
        "\n",
        "df = pd.read_csv('/heart-disease.csv')\n",
        "\n",
        "\n",
        "from sklearn.model_selection import cross_val_score\n",
        "from sklearn.ensemble import RandomForestClassifier \n",
        "from sklearn.model_selection import train_test_split\n",
        "\n",
        "X = df.drop('target', axis = 1)\n",
        "y = df['target']\n",
        "\n",
        "model = RandomForestClassifier()\n",
        "mean_score = np.mean(cross_val_score(model, X, y, cv = 5))\n",
        "print(f\"heart disease classifier 'cross-validated' accuracy: {(mean_score) *100:.2f}%\")"
      ]
    },
    {
      "cell_type": "markdown",
      "source": [
        "### Area under Curve (AUC)\n",
        "###Receiver Operating Characteristics (ROC)"
      ],
      "metadata": {
        "id": "IwtcitY99-tV"
      }
    },
    {
      "cell_type": "markdown",
      "source": [
        "#### ROC - Compares `True Positive rate` (tpr) vs `False Positive rate` (fpr)\n",
        "* True Positive - Model predicts 1 and truth is 1\n",
        "* False positive - Model predicts 1 and truth is 0\n",
        "* True negative - Model predicts 0 and truth is 0\n",
        "* False negative - Model predicts 1 and truth is 0"
      ],
      "metadata": {
        "id": "W78Y7001CySP"
      }
    },
    {
      "cell_type": "code",
      "source": [
        "X_train, X_test, y_train, y_test = train_test_split(X, y, test_size = 0.2)"
      ],
      "metadata": {
        "id": "-HL_wdz9D4yP"
      },
      "execution_count": null,
      "outputs": []
    },
    {
      "cell_type": "code",
      "source": [
        "from sklearn.metrics import roc_curve\n",
        "\n",
        "\n",
        "model.fit(X_train, y_train)\n",
        "\n",
        "# Make predictions with probabilities \n",
        "\n",
        "y_prob = model.predict_proba(X_test)\n",
        "\n",
        "y_prob[:10]"
      ],
      "metadata": {
        "colab": {
          "base_uri": "https://localhost:8080/"
        },
        "id": "hd13dcYaDmsf",
        "outputId": "82a1c8ec-1044-45ed-a9a5-126e11da1eea"
      },
      "execution_count": null,
      "outputs": [
        {
          "output_type": "execute_result",
          "data": {
            "text/plain": [
              "array([[0.07, 0.93],\n",
              "       [0.71, 0.29],\n",
              "       [0.22, 0.78],\n",
              "       [0.97, 0.03],\n",
              "       [0.98, 0.02],\n",
              "       [0.66, 0.34],\n",
              "       [0.8 , 0.2 ],\n",
              "       [0.05, 0.95],\n",
              "       [1.  , 0.  ],\n",
              "       [0.61, 0.39]])"
            ]
          },
          "metadata": {},
          "execution_count": 12
        }
      ]
    },
    {
      "cell_type": "code",
      "source": [
        "# Differentiating between positives and negatives\n",
        "\n",
        "y_prob_positive = y_prob[:,1]\n",
        "y_prob_positive"
      ],
      "metadata": {
        "colab": {
          "base_uri": "https://localhost:8080/"
        },
        "id": "dxpD7mNlEPFZ",
        "outputId": "ab46b87b-01b4-4907-fb5d-e8fc42759105"
      },
      "execution_count": null,
      "outputs": [
        {
          "output_type": "execute_result",
          "data": {
            "text/plain": [
              "array([0.93, 0.29, 0.78, 0.03, 0.02, 0.34, 0.2 , 0.95, 0.  , 0.39, 0.86,\n",
              "       0.56, 0.99, 0.2 , 0.78, 0.5 , 0.73, 0.56, 0.7 , 0.39, 0.37, 0.93,\n",
              "       0.74, 0.74, 0.03, 0.95, 0.98, 0.96, 0.59, 0.05, 0.79, 0.98, 0.68,\n",
              "       0.68, 0.  , 0.56, 0.51, 0.07, 0.85, 0.73, 0.84, 0.83, 0.9 , 0.13,\n",
              "       0.85, 0.15, 0.07, 0.65, 0.97, 0.98, 0.32, 0.32, 0.  , 0.89, 0.52,\n",
              "       0.75, 0.89, 0.57, 0.85, 0.77, 0.63])"
            ]
          },
          "metadata": {},
          "execution_count": 13
        }
      ]
    },
    {
      "cell_type": "code",
      "source": [
        "fpr, tpr, thresholds = roc_curve(y_test, y_prob_positive)"
      ],
      "metadata": {
        "id": "FBCycnhjE0mz"
      },
      "execution_count": 18,
      "outputs": []
    },
    {
      "cell_type": "code",
      "source": [
        "fpr"
      ],
      "metadata": {
        "colab": {
          "base_uri": "https://localhost:8080/"
        },
        "id": "lr7dSNwJs5YS",
        "outputId": "291c085b-1df3-4a42-d6d3-a64040972893"
      },
      "execution_count": 16,
      "outputs": [
        {
          "output_type": "execute_result",
          "data": {
            "text/plain": [
              "array([0.        , 0.        , 0.        , 0.        , 0.        ,\n",
              "       0.        , 0.        , 0.        , 0.        , 0.        ,\n",
              "       0.06666667, 0.1       , 0.13333333, 0.13333333, 0.2       ,\n",
              "       0.23333333, 0.23333333, 0.26666667, 0.33333333, 0.33333333,\n",
              "       0.36666667, 0.43333333, 0.43333333, 0.46666667, 0.53333333,\n",
              "       0.6       , 0.6       , 0.63333333, 0.7       , 0.76666667,\n",
              "       0.8       , 0.86666667, 0.9       , 1.        ])"
            ]
          },
          "metadata": {},
          "execution_count": 16
        }
      ]
    },
    {
      "cell_type": "code",
      "source": [
        "tpr"
      ],
      "metadata": {
        "colab": {
          "base_uri": "https://localhost:8080/"
        },
        "id": "DkBEH6Tms6yR",
        "outputId": "9e2000fc-5994-4a91-b688-48877b925d1a"
      },
      "execution_count": 19,
      "outputs": [
        {
          "output_type": "execute_result",
          "data": {
            "text/plain": [
              "array([0.        , 0.03225806, 0.12903226, 0.19354839, 0.32258065,\n",
              "       0.35483871, 0.41935484, 0.4516129 , 0.5483871 , 0.58064516,\n",
              "       0.58064516, 0.61290323, 0.61290323, 0.64516129, 0.64516129,\n",
              "       0.67741935, 0.70967742, 0.74193548, 0.74193548, 0.80645161,\n",
              "       0.87096774, 0.87096774, 0.90322581, 0.93548387, 0.93548387,\n",
              "       0.93548387, 0.96774194, 1.        , 1.        , 1.        ,\n",
              "       1.        , 1.        , 1.        , 1.        ])"
            ]
          },
          "metadata": {},
          "execution_count": 19
        }
      ]
    },
    {
      "cell_type": "code",
      "source": [
        "import matplotlib.pyplot as plt\n",
        "\n",
        "\n",
        "def plot_roc(fpr, tpr):\n",
        "  \"\"\"\n",
        "  Plots a ROC curve given the false positive rate (fpr) and true positive rate \n",
        "  (tpr) of a model\n",
        "  \"\"\"\n",
        "  # Plot line with no predictive power (baseline)\n",
        "  plt.plot(fpr, tpr, color = 'Orange', label = 'ROC')\n",
        "  plt.plot([0,1], [0,1], color = 'darkblue', linestyle = '--', label = 'Guessing')\n",
        "  plt.xlabel(\"fale positive rate\")\n",
        "  plt.ylabel('true positive rate')\n",
        "  plt.title('Receiver Operating Characteristic (ROC) curve')\n",
        "  plt.legend()\n",
        "  plt.show()\n",
        "\n",
        "plot_roc(fpr, tpr)\n"
      ],
      "metadata": {
        "id": "2rLW9WEWGUr_",
        "colab": {
          "base_uri": "https://localhost:8080/",
          "height": 295
        },
        "outputId": "19c1de1d-24b1-49bc-869e-b11939f7142f"
      },
      "execution_count": 20,
      "outputs": [
        {
          "output_type": "display_data",
          "data": {
            "text/plain": [
              "<Figure size 432x288 with 1 Axes>"
            ],
            "image/png": "[encoded data removed]"
          },
          "metadata": {
            "needs_background": "light"
          }
        }
      ]
    },
    {
      "cell_type": "code",
      "source": [
        "from sklearn.metrics import roc_auc_score\n",
        "\n",
        "roc_auc_score(y_test, y_prob_positive)"
      ],
      "metadata": {
        "colab": {
          "base_uri": "https://localhost:8080/"
        },
        "id": "mhChB3JVsvVR",
        "outputId": "3f630816-6453-45c0-e231-8709f9574c16"
      },
      "execution_count": 21,
      "outputs": [
        {
          "output_type": "execute_result",
          "data": {
            "text/plain": [
              "0.8586021505376344"
            ]
          },
          "metadata": {},
          "execution_count": 21
        }
      ]
    },
    {
      "cell_type": "code",
      "source": [
        ""
      ],
      "metadata": {
        "id": "-pTIS1zetZzV"
      },
      "execution_count": null,
      "outputs": []
    }
  ]
}